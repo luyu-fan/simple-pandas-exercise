{
 "nbformat": 4,
 "nbformat_minor": 2,
 "metadata": {
  "language_info": {
   "name": "python",
   "codemirror_mode": {
    "name": "ipython",
    "version": 3
   },
   "version": "3.6.5-final"
  },
  "orig_nbformat": 2,
  "file_extension": ".py",
  "mimetype": "text/x-python",
  "name": "python",
  "npconvert_exporter": "python",
  "pygments_lexer": "ipython3",
  "version": 3,
  "kernelspec": {
   "name": "python3",
   "display_name": "Python 3"
  }
 },
 "cells": [
  {
   "cell_type": "markdown",
   "metadata": {},
   "source": [
    "#### 基础操作\n",
    "Pandas中的核心是DataFrame,所有的数据基本上都包含在这个DataFrame里面.    \n",
    "以下区分：  \n",
    "DataFrame & Series  \n",
    "iloc & loc"
   ],
   "execution_count": null,
   "outputs": []
  },
  {
   "cell_type": "code",
   "execution_count": null,
   "metadata": {},
   "outputs": [],
   "source": [
    "import pandas as pd\n",
    "import numpy as np\n",
    "\n",
    "data = pd.DataFrame(data={\"apple\":[12,23,34,46,78,98,23,45,67,24,78,56,89,90],\"banana\":[12,23,34,46,78,98,23,45,67,24,78,56,89,90],\"level\":[\"good\",\"nice\",\"well\",\"bad\",\"nice\",\"well\",\"bad\",\"good\",\"nice\",\"well\",\"well\",\"bad\",\"good\",\"nice\"]})\n",
    "print(data.level)"
   ]
  },
  {
   "cell_type": "markdown",
   "metadata": {},
   "source": [
    "####\n",
    "基本数据描述操作    \n",
    "describe()：根据数据类型的不同输出不同的数据描述  \n",
    "对于数值型则输出基本的数字描述，对于字符串类型则输出频率等等\n",
    "其余的数值型简单如mean(),median(),sum()等等，他们都可以套起来使用。对字符串的value_counts(),unique()等等。"
   ],
   "execution_count": null,
   "outputs": []
  },
  {
   "cell_type": "code",
   "execution_count": null,
   "metadata": {},
   "outputs": [],
   "source": [
    "data.apple.describe()      \n",
    "data.level.value_counts()\n",
    "data.level.unique()         # 返回array"
   ]
  },
  {
   "cell_type": "markdown",
   "metadata": {},
   "source": [
    "####\n",
    "类似于Python列表中的两种应用: map->不是inplace的方法 reply->inplace方法  \n",
    "获取某一个属性中由大到小排列的坐标序列.idxmax() .idmin()等"
   ],
   "execution_count": null,
   "outputs": []
  },
  {
   "cell_type": "code",
   "execution_count": null,
   "metadata": {},
   "outputs": [],
   "source": [
    "mean_val = data.apple.mean()\n",
    "data.apple = data.apple.map(lambda p: p - mean_val)\n",
    "print(mean_val,data.apple)\n",
    "\n",
    "def remean_it(row,mean_data):\n",
    "    row.banana = row.banana - mean_data\n",
    "    return row\n",
    "mean_val = data.banana.mean() - 10\n",
    "data.apply(remean_it,axis=\"columns\",mean_data = mean_val)\n"
   ]
  },
  {
   "cell_type": "markdown",
   "metadata": {},
   "source": [
    "####\n",
    "排序和分组，map和apply方法都是针对一列的一次操作，如果需要对特定列特定行的进行数据分析就要自己分组和sort\n",
    "####\n",
    "groupby(), agg()\n",
    "####\n",
    "multi-indexes: 这个是经过group操作之后的索引,比如可能是某个字符串国家，城市等等 如果要恢复到数值索引需要用reset_index()\n",
    "####\n",
    "sort排序，默认排序是按照index进行排序而不是某个字段的值大小 .sort_values(by='len', ascending=False)  按值排序，.sort_index()\n",
    "按index排序\n"
   ],
   "execution_count": null,
   "outputs": []
  },
  {
   "cell_type": "code",
   "execution_count": null,
   "metadata": {},
   "outputs": [],
   "source": [
    "# data.groupby(\"level\").count()\n",
    "# # data.groupby(\"apple\").level.count()  # 后面的count只对数值类型有效，level字符串之后会出错\n",
    "# data.groupby(\"level\").apple.count()     \n",
    "# data.groupby(\"level\").apple.mean()\n",
    "# data.groupby(\"level\").apple.min()\n",
    "# data.groupby(\"level\").apple.max()\n",
    "# data.groupby(\"level\").apple.median()\n",
    "# data.groupby(\"level\").apple.std()\n",
    "# data.groupby([\"level\",\"apple\"]).banana.max()\n",
    "# data.groupby(\"level\").agg([len,min,max]).reset_index()\n",
    "new_data = data.groupby(\"level\").apple.agg([len,min,max])\n",
    "new_data = new_data.reset_index()\n",
    "new_data.sort_values(by = [\"len\",\"min\"],ascending = False)\n",
    "new_data.sort_index()\n",
    "data.groupby([\"level\",\"apple\"]).size().sort_values(ascending=False)\n",
    "data.groupby(\"level\")"
   ]
  },
  {
   "cell_type": "markdown",
   "metadata": {},
   "source": [
    "####\n",
    "处理字段缺失的情况  \n",
    "每个字段都有dtype属性和astpe()方法\n",
    "####\n",
    "对于有缺失值的地方pd会标记为NaN,可以通过pd.isnull()来检测这个字段。最关键的是pd提供了一些fillna()方法来填充这些缺省值。可以针对不同类型的数值填充。   \n",
    "可以使用replace进行值替换。  \n",
    "\n"
   ],
   "execution_count": null,
   "outputs": []
  },
  {
   "cell_type": "markdown",
   "metadata": {},
   "source": [
    "####\n",
    "重命名和组合rename&combine  \n",
    "rename既可以对列属性重命名，也可以对固定某行的索引重命名，实际上对列重命名更常见。也可以对row和col的轴重命名rename_axis()"
   ],
   "execution_count": null,
   "outputs": []
  },
  {
   "cell_type": "code",
   "execution_count": null,
   "metadata": {},
   "outputs": [],
   "source": [
    "data.rename(columns={\"apple\":\"F1\",\"banana\":\"F2\"})\n",
    "data.rename(index={4:\"四\",8:\"Ⅷ\"})"
   ]
  },
  {
   "cell_type": "markdown",
   "metadata": {},
   "source": [
    "####\n",
    "此外最重要的一个操作是对两个不同的数据帧进行组合。concate(),join(),merge()"
   ]
  },
  {
   "cell_type": "code",
   "execution_count": 81,
   "metadata": {},
   "outputs": [
    {
     "output_type": "execute_result",
     "data": {
      "text/plain": "               field3  Field333\nfield1 field2                  \n-4     -21          3        -8\n-16     22          5         1\n 13     10         17        24\n-6     -2          -2         8\n 3     -1         -22        14\n 2      16          0        -2\n-12    -4          -8         7\n-5      9         -12       -10\n-16     0           8        -2\n-15    -9          -7       -11",
      "text/html": "<div>\n<style scoped>\n    .dataframe tbody tr th:only-of-type {\n        vertical-align: middle;\n    }\n\n    .dataframe tbody tr th {\n        vertical-align: top;\n    }\n\n    .dataframe thead th {\n        text-align: right;\n    }\n</style>\n<table border=\"1\" class=\"dataframe\">\n  <thead>\n    <tr style=\"text-align: right;\">\n      <th></th>\n      <th></th>\n      <th>field3</th>\n      <th>Field333</th>\n    </tr>\n    <tr>\n      <th>field1</th>\n      <th>field2</th>\n      <th></th>\n      <th></th>\n    </tr>\n  </thead>\n  <tbody>\n    <tr>\n      <th>-4</th>\n      <th>-21</th>\n      <td>3</td>\n      <td>-8</td>\n    </tr>\n    <tr>\n      <th>-16</th>\n      <th>22</th>\n      <td>5</td>\n      <td>1</td>\n    </tr>\n    <tr>\n      <th>13</th>\n      <th>10</th>\n      <td>17</td>\n      <td>24</td>\n    </tr>\n    <tr>\n      <th>-6</th>\n      <th>-2</th>\n      <td>-2</td>\n      <td>8</td>\n    </tr>\n    <tr>\n      <th>3</th>\n      <th>-1</th>\n      <td>-22</td>\n      <td>14</td>\n    </tr>\n    <tr>\n      <th>2</th>\n      <th>16</th>\n      <td>0</td>\n      <td>-2</td>\n    </tr>\n    <tr>\n      <th>-12</th>\n      <th>-4</th>\n      <td>-8</td>\n      <td>7</td>\n    </tr>\n    <tr>\n      <th>-5</th>\n      <th>9</th>\n      <td>-12</td>\n      <td>-10</td>\n    </tr>\n    <tr>\n      <th>-16</th>\n      <th>0</th>\n      <td>8</td>\n      <td>-2</td>\n    </tr>\n    <tr>\n      <th>-15</th>\n      <th>-9</th>\n      <td>-7</td>\n      <td>-11</td>\n    </tr>\n  </tbody>\n</table>\n</div>"
     },
     "metadata": {},
     "execution_count": 81
    }
   ],
   "source": [
    "filed1 = (np.random.randn(10) * 10).astype(np.int)\n",
    "filed2 = (np.random.randn(10) * 10).astype(np.int)\n",
    "data1 = pd.DataFrame(data={\"field1\":filed1,\"field2\":filed2,\"field3\":(np.random.randn(10) * 10).astype(np.int)})\n",
    "data2 = pd.DataFrame(data={\"field1\":filed1,\"field2\":filed2,\"Field333\":(np.random.randn(10) * 10).astype(np.int)})\n",
    "pd.concat([data2,data1],axis=1)   # 指定方向进行拼接 如果拼接的时候两个互相不对应，那么拼接后的维度是之前的维度之和，缺省的地方为NaN\n",
    "data1 = data1.set_index([\"field1\",\"field2\"])\n",
    "data2 = data2.set_index([\"field1\",\"field2\"])\n",
    "data1.join(data2,lsuffix=\"_Can\",rsuffix=\"_Can\")     # 将具有公共属性的两张表联合起来，前提是必须要设置index, 后面两个只是为了区分其余join之后的可能字段名相同的情况"
   ]
  }
 ]
}